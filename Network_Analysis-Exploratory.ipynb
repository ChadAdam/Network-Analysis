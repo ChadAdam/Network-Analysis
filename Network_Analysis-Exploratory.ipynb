{
 "cells": [
  {
   "cell_type": "markdown",
   "metadata": {},
   "source": [
    "# Phase1  Exploring the Data from Season 1 of Game of Thrones\n",
    "## Question:  Which character had the greatest downward trend in prominance throught the series?"
   ]
  },
  {
   "cell_type": "markdown",
   "metadata": {},
   "source": [
    "Examining how the csv files are organized , we see a seperation between a table of all the characters(nodes.csv) and\n",
    "a table of all the relationships of those characters (edges.csv)\n",
    "\n",
    "In the s1_edges dataframe: the 'Source' & 'Target' columns are the character nodes in the interactions and the 'Weight' column is the number of interactions in the scenes of the season\n",
    "\n",
    "In the s1_nodes dataframe: the 'Id' is the character name and 'Label' appears to be a casual version that the character is refferenced by in the series. "
   ]
  },
  {
   "cell_type": "code",
   "execution_count": 5,
   "metadata": {},
   "outputs": [
    {
     "name": "stdout",
     "output_type": "stream",
     "text": [
      "         Source  Target  Weight  Season\n",
      "0           NED  ROBERT     192       1\n",
      "1      DAENERYS   JORAH     154       1\n",
      "2           JON     SAM     121       1\n",
      "3  LITTLEFINGER     NED     107       1\n",
      "4           NED   VARYS      96       1 \n",
      "\n",
      "               Id     Label\n",
      "0  ADDAM_MARBRAND     Addam\n",
      "1           AEGON     Aegon\n",
      "2           AERYS     Aerys\n",
      "3  ALLISER_THORNE  Allister\n",
      "4            ARYA      Arya\n"
     ]
    }
   ],
   "source": [
    "import pandas as pd \n",
    "import networkx as n\n",
    "import matplotlib.pyplot as plt \n",
    "import numpy as np\n",
    "from scipy.stats import skew\n",
    "\n",
    "# Read in the csv files for season 1, season 1 edges and season 1 nodes\n",
    "s1_edges = pd.read_csv('gameofthrones/data/got-s1-edges.csv')\n",
    "s1_nodes = pd.read_csv('gameofthrones/data/got-s1-nodes.csv')\n",
    "\n",
    "# Examine the first 5 rows of edges to get an idea of the column and rows\n",
    "print(s1_edges.head(5), '\\n')\n",
    "\n",
    "# Examine the first 5 rows of nodes to get a dataframe of the lists of characters in GoT\n",
    "\n",
    "print(s1_nodes.head(5))"
   ]
  },
  {
   "cell_type": "markdown",
   "metadata": {},
   "source": [
    "For consistency and ease of manipulation I will set the column of characters as the index of both dataframes. For the edges dataframe we will use the 'Source' column , but we will rename it 'Id' for consistency with both dataframes"
   ]
  },
  {
   "cell_type": "code",
   "execution_count": 10,
   "metadata": {},
   "outputs": [
    {
     "name": "stdout",
     "output_type": "stream",
     "text": [
      "              Target  Weight  Season\n",
      "Id                                  \n",
      "NED           ROBERT     192       1\n",
      "DAENERYS       JORAH     154       1\n",
      "JON              SAM     121       1\n",
      "LITTLEFINGER     NED     107       1\n",
      "NED            VARYS      96       1 \n",
      "                    Label\n",
      "Id                      \n",
      "ADDAM_MARBRAND     Addam\n",
      "AEGON              Aegon\n",
      "AERYS              Aerys\n",
      "ALLISER_THORNE  Allister\n",
      "ARYA                Arya\n"
     ]
    }
   ],
   "source": [
    "#Create identical column names and set the character id as index for manipulation\n",
    "s1_edges_index = s1_edges.rename(columns={'Source':'Id'}).set_index('Id')\n",
    "s1_nodes_index = s1_nodes.set_index('Id')\n",
    "\n",
    "print(s1_edges_index.head(5) , '\\n',s1_nodes_index.head(5))\n"
   ]
  },
  {
   "cell_type": "code",
   "execution_count": 4,
   "metadata": {
    "scrolled": true
   },
   "outputs": [
    {
     "data": {
      "text/plain": [
       "\"'import pandas as pd \\nimport networkx as n\\nimport matplotlib.pyplot as plt \\nimport numpy as np\\nfrom scipy.stats import skew\\n# Read in the csv files for season 1, season 1 edges and season 1 nodes\\ns1_edges = pd.read_csv('gameofthrones/data/got-s1-edges.csv')\\ns1_nodes = pd.read_csv('gameofthrones/data/got-s1-nodes.csv') \\n\\n# Examine the first 5 rows of edges to get an idea of the column and rows\\n# The 'Source' & 'Target' columns are the character nodes in the interactions \\n# and the 'Weight' column is the number of interactions in the scenes of the season\\nprint(s1_edges.head(5), '\\n')\\n\\n# Examine the first 5 rows of nodes to get a dataframe of the lists of characters in GoT\\n# Organized by an 'Id' and 'Label'\\nprint(s1_nodes.head(5))\\n\\n\\n#Create identical column names and set the character id as index for manipulation\\ns1_edges_index = s1_edges.rename(columns={'Source':'Id'}).set_index('Id')\\ns1_nodes_index = s1_nodes.set_index('Id')\\n\\nprint(s1_edges_index.head(5) , s1_nodes_index.head(5)) \\n \\n\\n# Group the dataframe by the sum of all interactions per character\\ndf_sum = s1_edges_index.groupby(s1_edges_index.index)['Weight'].sum()\\n# Group the dataframe by the count of characters interacted \\ndf_count = s1_edges_index.groupby(s1_edges_index.index)['Weight'].count()\\n\\n#Create a histograph to see the distribution of the Sum and Count dataframes\\n\\n#Using the distribution to find insight about the series and the characters involved\\nplt.subplot(121)\\nplt.title('Frequency of Characters by the \\nSum of Interactions in the Season')\\ndf_sum.hist(figsize=(15, 7), bins=20) \\nplt.axvline(df_sum.mean(), color='purple', linestyle='dashed', linewidth=2, alpha=.4)\\nplt.axvline(df_sum.median(), color='red', linestyle='dashed', linewidth=2, alpha=.4)\\nplt.ylabel('# of Characters')\\nplt.xlabel('Sum of Interactions')\\n_, max_ = plt.ylim()\\nplt.text(df_sum.mean() + df_sum.mean()*.01, max_ - max_*.25, 'Mean: {:.2f}'.format(df_sum.mean()), weight='bold')\\nplt.text(df_sum.median() + df_sum.median()*.01 , max_-max_*.1 ,'Median: {:.2f}'.format(df_sum.median()), weight='bold')\\n\\n\\n\\nplt.subplot(122)\\nplt.title('Frequency of Characters by the \\nAmount of Characters Interacted in the Season')\\ndf_count.hist(figsize=(15, 7), bins=20)\\nplt.axvline(df_count.mean(), color='purple', linestyle='dashed', linewidth=2, alpha=.4)\\nplt.axvline(df_count.median(), color='red', linestyle='dashed', linewidth=2, alpha=.4)\\nplt.ylabel('# of Characters')\\nplt.xlabel('Count of Characters Interacted')\\n_, max_ = plt.ylim()\\nplt.text(df_count.mean() + df_count.mean()*.01, max_ - max_*.25, 'Mean: {:.2f}'.format(df_count.mean()), weight='bold')\\nplt.text(df_count.median() + df_count.median()*.01 , max_-max_*.1 ,'Median: {:.2f}'.format(df_count.median()), weight='bold')\\nplt.show() \\n\\n\\n\\n# Find the list of 5 characters that have the highest number of interactions \\n# Find the list of 5 characters that interacted with the greatest number of characters\\nprint('SUM', s1_edges_index.groupby(s1_edges_index.index)['Weight'].sum().sort_values().tail(5),'\\nCOUNT',\\ns1_edges_index.groupby(s1_edges_index.index)['Weight'].count().sort_values().tail(5))\\n# The skew is greater than 1 so it is highly skewed to the right\\nprint('\\tSkew\\nSum: ', skew(df_sum),' Count: ', skew(df_count))\\n\\n# Calculate the 95% percentile to find where the top 5% of all summed interactions start\\n# Then filter the dataframe using that information to list the characters involved \\nprint('Top 5% of total interactions were {:0.0f} interactions or higher \\n'.format\\n      ((np.floor(df_sum.quantile(.95))+1)))\\n\\nprint('This top 5% involves the following characters: \\n',df_sum.loc[lambda x:x>np.floor(df_sum.quantile(.95))].sort_values().reset_index())\\n# Calculate the 95% percentile to find where the top 5% of all counted interactions start\\n# Then filter the dataframe using that information to list the characters involved \\nprint('Top 5% of total characters interacted were {:0.0f} number of characters interacted or higher \\n'.format\\n      ((np.floor(df_count.quantile(.95))+1)))\\n\\nprint('This top 5% involves the following characters: \\n',df_count.loc[lambda x:x>np.floor(df_count.quantile(.95))].sort_values().reset_index())\\n\\n#----df_sum.loc[lambda x:x>np.floor(df_sum.quantile(.95))].sort_values().reset_index().values\\n\\n#Insight starts here. \""
      ]
     },
     "execution_count": 4,
     "metadata": {},
     "output_type": "execute_result"
    }
   ],
   "source": [
    "''''import pandas as pd \n",
    "import networkx as n\n",
    "import matplotlib.pyplot as plt \n",
    "import numpy as np\n",
    "from scipy.stats import skew\n",
    "# Read in the csv files for season 1, season 1 edges and season 1 nodes\n",
    "s1_edges = pd.read_csv('gameofthrones/data/got-s1-edges.csv')\n",
    "s1_nodes = pd.read_csv('gameofthrones/data/got-s1-nodes.csv') \n",
    "\n",
    "# Examine the first 5 rows of edges to get an idea of the column and rows\n",
    "# The 'Source' & 'Target' columns are the character nodes in the interactions \n",
    "# and the 'Weight' column is the number of interactions in the scenes of the season\n",
    "print(s1_edges.head(5), '\\n')\n",
    "\n",
    "# Examine the first 5 rows of nodes to get a dataframe of the lists of characters in GoT\n",
    "# Organized by an 'Id' and 'Label'\n",
    "print(s1_nodes.head(5))\n",
    "\n",
    "\n",
    "#Create identical column names and set the character id as index for manipulation\n",
    "s1_edges_index = s1_edges.rename(columns={'Source':'Id'}).set_index('Id')\n",
    "s1_nodes_index = s1_nodes.set_index('Id')\n",
    "\n",
    "print(s1_edges_index.head(5) , s1_nodes_index.head(5)) \n",
    " \n",
    "\n",
    "# Group the dataframe by the sum of all interactions per character\n",
    "df_sum = s1_edges_index.groupby(s1_edges_index.index)['Weight'].sum()\n",
    "# Group the dataframe by the count of characters interacted \n",
    "df_count = s1_edges_index.groupby(s1_edges_index.index)['Weight'].count()\n",
    "\n",
    "#Create a histograph to see the distribution of the Sum and Count dataframes\n",
    "\n",
    "#Using the distribution to find insight about the series and the characters involved\n",
    "plt.subplot(121)\n",
    "plt.title('Frequency of Characters by the \\nSum of Interactions in the Season')\n",
    "df_sum.hist(figsize=(15, 7), bins=20) \n",
    "plt.axvline(df_sum.mean(), color='purple', linestyle='dashed', linewidth=2, alpha=.4)\n",
    "plt.axvline(df_sum.median(), color='red', linestyle='dashed', linewidth=2, alpha=.4)\n",
    "plt.ylabel('# of Characters')\n",
    "plt.xlabel('Sum of Interactions')\n",
    "_, max_ = plt.ylim()\n",
    "plt.text(df_sum.mean() + df_sum.mean()*.01, max_ - max_*.25, 'Mean: {:.2f}'.format(df_sum.mean()), weight='bold')\n",
    "plt.text(df_sum.median() + df_sum.median()*.01 , max_-max_*.1 ,'Median: {:.2f}'.format(df_sum.median()), weight='bold')\n",
    "\n",
    "\n",
    "\n",
    "plt.subplot(122)\n",
    "plt.title('Frequency of Characters by the \\nAmount of Characters Interacted in the Season')\n",
    "df_count.hist(figsize=(15, 7), bins=20)\n",
    "plt.axvline(df_count.mean(), color='purple', linestyle='dashed', linewidth=2, alpha=.4)\n",
    "plt.axvline(df_count.median(), color='red', linestyle='dashed', linewidth=2, alpha=.4)\n",
    "plt.ylabel('# of Characters')\n",
    "plt.xlabel('Count of Characters Interacted')\n",
    "_, max_ = plt.ylim()\n",
    "plt.text(df_count.mean() + df_count.mean()*.01, max_ - max_*.25, 'Mean: {:.2f}'.format(df_count.mean()), weight='bold')\n",
    "plt.text(df_count.median() + df_count.median()*.01 , max_-max_*.1 ,'Median: {:.2f}'.format(df_count.median()), weight='bold')\n",
    "plt.show() \n",
    "\n",
    "\n",
    "\n",
    "# Find the list of 5 characters that have the highest number of interactions \n",
    "# Find the list of 5 characters that interacted with the greatest number of characters\n",
    "print('SUM', s1_edges_index.groupby(s1_edges_index.index)['Weight'].sum().sort_values().tail(5),'\\nCOUNT',\n",
    "s1_edges_index.groupby(s1_edges_index.index)['Weight'].count().sort_values().tail(5))\n",
    "# The skew is greater than 1 so it is highly skewed to the right\n",
    "print('\\tSkew\\nSum: ', skew(df_sum),' Count: ', skew(df_count))\n",
    "\n",
    "# Calculate the 95% percentile to find where the top 5% of all summed interactions start\n",
    "# Then filter the dataframe using that information to list the characters involved \n",
    "print('Top 5% of total interactions were {:0.0f} interactions or higher \\n'.format\n",
    "      ((np.floor(df_sum.quantile(.95))+1)))\n",
    "\n",
    "print('This top 5% involves the following characters: \\n',df_sum.loc[lambda x:x>np.floor(df_sum.quantile(.95))].sort_values().reset_index())\n",
    "# Calculate the 95% percentile to find where the top 5% of all counted interactions start\n",
    "# Then filter the dataframe using that information to list the characters involved \n",
    "print('Top 5% of total characters interacted were {:0.0f} number of characters interacted or higher \\n'.format\n",
    "      ((np.floor(df_count.quantile(.95))+1)))\n",
    "\n",
    "print('This top 5% involves the following characters: \\n',df_count.loc[lambda x:x>np.floor(df_count.quantile(.95))].sort_values().reset_index())\n",
    "\n",
    "#----df_sum.loc[lambda x:x>np.floor(df_sum.quantile(.95))].sort_values().reset_index().values\n",
    "\n",
    "#Insight starts here. '''\n"
   ]
  },
  {
   "cell_type": "code",
   "execution_count": 7,
   "metadata": {},
   "outputs": [
    {
     "name": "stdout",
     "output_type": "stream",
     "text": [
      "Id\n",
      "ADDAM_MARBRAND      8\n",
      "AEGON               4\n",
      "AERYS              39\n",
      "ALLISER_THORNE     73\n",
      "ARYA              373\n",
      "Name: Weight, dtype: int64 Id\n",
      "ADDAM_MARBRAND     3\n",
      "AEGON              2\n",
      "AERYS             12\n",
      "ALLISER_THORNE     8\n",
      "ARYA              28\n",
      "Name: Weight, dtype: int64\n"
     ]
    }
   ],
   "source": [
    "# Group the dataframe by the sum of all interactions per character\n",
    "df_sum = s1_edges_index.groupby(s1_edges_index.index)['Weight'].sum()\n",
    "# Group the dataframe by the count of characters interacted \n",
    "df_count = s1_edges_index.groupby(s1_edges_index.index)['Weight'].count()\n",
    "print(df_sum.head(5) , df_count.head(5))"
   ]
  },
  {
   "cell_type": "code",
   "execution_count": 8,
   "metadata": {},
   "outputs": [
    {
     "data": {
      "image/png": "[encoded data removed]",
      "text/plain": [
       "<Figure size 1080x504 with 2 Axes>"
      ]
     },
     "metadata": {
      "needs_background": "light"
     },
     "output_type": "display_data"
    }
   ],
   "source": [
    "#Create a histograph to see the distribution of the Sum and Count dataframes\n",
    "\n",
    "#Using the distribution to find insight about the series and the characters involved\n",
    "plt.subplot(121)\n",
    "plt.title('Frequency of Characters by the \\nSum of Interactions in the Season')\n",
    "df_sum.hist(figsize=(15, 7), bins=20) \n",
    "plt.axvline(df_sum.mean(), color='purple', linestyle='dashed', linewidth=2, alpha=.4)\n",
    "plt.axvline(df_sum.median(), color='red', linestyle='dashed', linewidth=2, alpha=.4)\n",
    "plt.ylabel('# of Characters')\n",
    "plt.xlabel('Sum of Interactions')\n",
    "_, max_ = plt.ylim()\n",
    "plt.text(df_sum.mean() + df_sum.mean()*.01, max_ - max_*.25, 'Mean: {:.2f}'.format(df_sum.mean()), weight='bold')\n",
    "plt.text(df_sum.median() + df_sum.median()*.01 , max_-max_*.1 ,'Median: {:.2f}'.format(df_sum.median()), weight='bold')\n",
    "\n",
    "\n",
    "\n",
    "plt.subplot(122)\n",
    "plt.title('Frequency of Characters by the \\nAmount of Characters Interacted in the Season')\n",
    "df_count.hist(figsize=(15, 7), bins=20)\n",
    "plt.axvline(df_count.mean(), color='purple', linestyle='dashed', linewidth=2, alpha=.4)\n",
    "plt.axvline(df_count.median(), color='red', linestyle='dashed', linewidth=2, alpha=.4)\n",
    "plt.ylabel('# of Characters')\n",
    "plt.xlabel('Count of Characters Interacted')\n",
    "_, max_ = plt.ylim()\n",
    "plt.text(df_count.mean() + df_count.mean()*.01, max_ - max_*.25, 'Mean: {:.2f}'.format(df_count.mean()), weight='bold')\n",
    "plt.text(df_count.median() + df_count.median()*.01 , max_-max_*.1 ,'Median: {:.2f}'.format(df_count.median()), weight='bold')\n",
    "plt.show()\n"
   ]
  },
  {
   "cell_type": "code",
   "execution_count": 9,
   "metadata": {},
   "outputs": [
    {
     "name": "stdout",
     "output_type": "stream",
     "text": [
      "SUM Id\n",
      "ARYA        373\n",
      "CERSEI      392\n",
      "CATELYN     533\n",
      "DAENERYS    533\n",
      "NED         577\n",
      "Name: Weight, dtype: int64 \n",
      "COUNT Id\n",
      "JOFFREY    18\n",
      "NED        23\n",
      "CERSEI     23\n",
      "ARYA       28\n",
      "CATELYN    30\n",
      "Name: Weight, dtype: int64\n",
      "\tSkew\n",
      "Sum:  2.868708181451038  Count:  2.0915642277326842\n",
      "Top 5% of total interactions were 324 interactions or higher \n",
      "\n",
      "This top 5% involves the following characters: \n",
      "          Id  Weight\n",
      "0       JON     324\n",
      "1      ARYA     373\n",
      "2    CERSEI     392\n",
      "3   CATELYN     533\n",
      "4  DAENERYS     533\n",
      "5       NED     577\n",
      "Top 5% of total characters interacted were 18 number of characters interacted or higher \n",
      "\n",
      "This top 5% involves the following characters: \n",
      "         Id  Weight\n",
      "0     BRAN      18\n",
      "1  JOFFREY      18\n",
      "2   CERSEI      23\n",
      "3      NED      23\n",
      "4     ARYA      28\n",
      "5  CATELYN      30\n"
     ]
    }
   ],
   "source": [
    "# Find the list of 5 characters that have the highest number of interactions \n",
    "# Find the list of 5 characters that interacted with the greatest number of characters\n",
    "print('SUM', s1_edges_index.groupby(s1_edges_index.index)['Weight'].sum().sort_values().tail(5),'\\nCOUNT',\n",
    "s1_edges_index.groupby(s1_edges_index.index)['Weight'].count().sort_values().tail(5))\n",
    "# The skew is greater than 1 so it is highly skewed to the right\n",
    "print('\\tSkew\\nSum: ', skew(df_sum),' Count: ', skew(df_count))\n",
    "\n",
    "# Calculate the 95% percentile to find where the top 5% of all summed interactions start\n",
    "# Then filter the dataframe using that information to list the characters involved \n",
    "print('Top 5% of total interactions were {:0.0f} interactions or higher \\n'.format\n",
    "      ((np.floor(df_sum.quantile(.95))+1)))\n",
    "\n",
    "print('This top 5% involves the following characters: \\n',df_sum.loc[lambda x:x>np.floor(df_sum.quantile(.95))].sort_values().reset_index())\n",
    "# Calculate the 95% percentile to find where the top 5% of all counted interactions start\n",
    "# Then filter the dataframe using that information to list the characters involved \n",
    "print('Top 5% of total characters interacted were {:0.0f} number of characters interacted or higher \\n'.format\n",
    "      ((np.floor(df_count.quantile(.95))+1)))\n",
    "\n",
    "print('This top 5% involves the following characters: \\n',df_count.loc[lambda x:x>np.floor(df_count.quantile(.95))].sort_values().reset_index())\n"
   ]
  },
  {
   "cell_type": "code",
   "execution_count": null,
   "metadata": {},
   "outputs": [],
   "source": []
  }
 ],
 "metadata": {
  "kernelspec": {
   "display_name": "Python 3",
   "language": "python",
   "name": "python3"
  },
  "language_info": {
   "codemirror_mode": {
    "name": "ipython",
    "version": 3
   },
   "file_extension": ".py",
   "mimetype": "text/x-python",
   "name": "python",
   "nbconvert_exporter": "python",
   "pygments_lexer": "ipython3",
   "version": "3.7.3"
  }
 },
 "nbformat": 4,
 "nbformat_minor": 2
}
