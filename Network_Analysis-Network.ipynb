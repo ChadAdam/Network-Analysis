{
 "cells": [
  {
   "cell_type": "markdown",
   "metadata": {},
   "source": [
    "Explain what Network X is and is used for in this project--"
   ]
  },
  {
   "cell_type": "code",
   "execution_count": 22,
   "metadata": {
    "scrolled": true
   },
   "outputs": [
    {
     "data": {
      "text/html": [
       "<div>\n",
       "<style scoped>\n",
       "    .dataframe tbody tr th:only-of-type {\n",
       "        vertical-align: middle;\n",
       "    }\n",
       "\n",
       "    .dataframe tbody tr th {\n",
       "        vertical-align: top;\n",
       "    }\n",
       "\n",
       "    .dataframe thead th {\n",
       "        text-align: right;\n",
       "    }\n",
       "</style>\n",
       "<table border=\"1\" class=\"dataframe\">\n",
       "  <thead>\n",
       "    <tr style=\"text-align: right;\">\n",
       "      <th></th>\n",
       "      <th>Source</th>\n",
       "      <th>Target</th>\n",
       "      <th>Weight</th>\n",
       "      <th>Season</th>\n",
       "    </tr>\n",
       "  </thead>\n",
       "  <tbody>\n",
       "    <tr>\n",
       "      <th>0</th>\n",
       "      <td>NED</td>\n",
       "      <td>ROBERT</td>\n",
       "      <td>192</td>\n",
       "      <td>1</td>\n",
       "    </tr>\n",
       "    <tr>\n",
       "      <th>1</th>\n",
       "      <td>DAENERYS</td>\n",
       "      <td>JORAH</td>\n",
       "      <td>154</td>\n",
       "      <td>1</td>\n",
       "    </tr>\n",
       "    <tr>\n",
       "      <th>2</th>\n",
       "      <td>JON</td>\n",
       "      <td>SAM</td>\n",
       "      <td>121</td>\n",
       "      <td>1</td>\n",
       "    </tr>\n",
       "    <tr>\n",
       "      <th>3</th>\n",
       "      <td>LITTLEFINGER</td>\n",
       "      <td>NED</td>\n",
       "      <td>107</td>\n",
       "      <td>1</td>\n",
       "    </tr>\n",
       "    <tr>\n",
       "      <th>4</th>\n",
       "      <td>NED</td>\n",
       "      <td>VARYS</td>\n",
       "      <td>96</td>\n",
       "      <td>1</td>\n",
       "    </tr>\n",
       "  </tbody>\n",
       "</table>\n",
       "</div>"
      ],
      "text/plain": [
       "         Source  Target  Weight  Season\n",
       "0           NED  ROBERT     192       1\n",
       "1      DAENERYS   JORAH     154       1\n",
       "2           JON     SAM     121       1\n",
       "3  LITTLEFINGER     NED     107       1\n",
       "4           NED   VARYS      96       1"
      ]
     },
     "execution_count": 22,
     "metadata": {},
     "output_type": "execute_result"
    }
   ],
   "source": [
    "#Load and inspect the first 5 rows of the edges for season 1\n",
    "import networkx as nx\n",
    "import pandas as pd\n",
    "import matplotlib.pyplot as plt\n",
    "%matplotlib inline\n",
    "\n",
    "S1 = pd.read_csv('gameofthrones/data/got-s1-edges.csv')\n",
    "S1.head(5)"
   ]
  },
  {
   "cell_type": "markdown",
   "metadata": {},
   "source": [
    "----"
   ]
  },
  {
   "cell_type": "code",
   "execution_count": 23,
   "metadata": {},
   "outputs": [
    {
     "data": {
      "text/plain": [
       "<networkx.classes.graph.Graph at 0x7f557a6d6898>"
      ]
     },
     "execution_count": 23,
     "metadata": {},
     "output_type": "execute_result"
    }
   ],
   "source": [
    "# Create a graph object and iterate throw the rows of the season 1 dataframe to add edges to graph\n",
    "G_S1 = nx.Graph()\n",
    "for _ , edge in S1.iterrows():\n",
    "    G_S1.add_edge(edge['Source'], edge['Target'] , weight=edge['Weight'])\n",
    "G_S1"
   ]
  },
  {
   "cell_type": "markdown",
   "metadata": {},
   "source": [
    "\n",
    "The measure of degree centrality is defined as the number of links incident upon a node (i.e., the number of ties that a node has), this number can be normalized using all possible links. The degree centrality in the domain of Game of Thrones is the number of connections a character has compared to all possible connections in the story. \n",
    "\n",
    "In networkx we use the degree_centrality() function to find our the degree centrality of the nodes in a graph. The output of the degree_centrality() function is a dictionary with the nodes (characters) as the keys and thier corrisponding number of nodes connected to them / number of all nodes. This value is expressed as a number between 0 and 1. \n",
    "\n",
    "--explain findings"
   ]
  },
  {
   "cell_type": "code",
   "execution_count": 24,
   "metadata": {},
   "outputs": [
    {
     "name": "stdout",
     "output_type": "stream",
     "text": [
      "{'NED': 0.45238095238095233, 'TYRION': 0.32539682539682535, 'CATELYN': 0.2936507936507936, 'ROBERT': 0.2857142857142857, 'ROBB': 0.23809523809523808, 'CERSEI': 0.23015873015873015, 'ARYA': 0.2222222222222222, 'JOFFREY': 0.21428571428571427, 'JON': 0.20634920634920634, 'LITTLEFINGER': 0.20634920634920634}\n"
     ]
    },
    {
     "data": {
      "image/png": "[encoded data removed]",
      "text/plain": [
       "<Figure size 432x288 with 1 Axes>"
      ]
     },
     "metadata": {
      "needs_background": "light"
     },
     "output_type": "display_data"
    }
   ],
   "source": [
    "# Find the most important characters by degree centrality\n",
    "degree_cent_S1 = nx.degree_centrality(G_S1)\n",
    "sort_degree_cent_1 =dict(sorted(degree_cent_S1.items(), key=lambda x:x[1],reverse=True )[0:10])\n",
    "print(sort_degree_cent_1)\n",
    "df_sort_deg1 = pd.DataFrame.from_records([sort_degree_cent_1]).rename({0:'Degree Centrality'})\n",
    "df_sort_deg1.T.plot(kind='bar')\n",
    "plt.ylabel('Percentage of Total Connections')\n",
    "plt.show()\n"
   ]
  },
  {
   "cell_type": "markdown",
   "metadata": {},
   "source": [
    "---Explain Betweeness centrality"
   ]
  },
  {
   "cell_type": "code",
   "execution_count": 25,
   "metadata": {},
   "outputs": [
    {
     "name": "stdout",
     "output_type": "stream",
     "text": [
      "{'NED': 0.30026126167071343, 'TYRION': 0.16145976276685722, 'CATELYN': 0.13227954417579132, 'ROBERT': 0.10930923572913841, 'DAENERYS': 0.10138740461169886, 'JON': 0.08544308870643987, 'ROBB': 0.07916384377204937, 'ARYA': 0.06561452566372701, 'PYP': 0.06026418443633793, 'JORAH': 0.053181703315620846}\n"
     ]
    },
    {
     "data": {
      "image/png": "[encoded data removed]",
      "text/plain": [
       "<Figure size 432x288 with 1 Axes>"
      ]
     },
     "metadata": {
      "needs_background": "light"
     },
     "output_type": "display_data"
    }
   ],
   "source": [
    "# sort_degree_cent_1 =dict(sorted(degree_cent_S1.items(), key=lambda x:x[1],reverse=True )[0:10])\n",
    "\n",
    "\n",
    "bet_cent_S1 = nx.betweenness_centrality(G_S1 , weight='Weight')\n",
    "sort_bet_cent_1 =dict(sorted(bet_cent_S1.items(), key=lambda x:x[1],reverse=True )[0:10])\n",
    "print(sort_bet_cent_1)\n",
    "df_sort_bet1 = pd.DataFrame.from_records([sort_bet_cent_1]).rename({0:'Betweenness Centrality'})\n",
    "df_sort_bet1.T.plot(kind='bar')\n",
    "plt.ylabel('?')\n",
    "plt.show()"
   ]
  },
  {
   "cell_type": "code",
   "execution_count": null,
   "metadata": {},
   "outputs": [],
   "source": []
  },
  {
   "cell_type": "code",
   "execution_count": null,
   "metadata": {},
   "outputs": [],
   "source": []
  }
 ],
 "metadata": {
  "kernelspec": {
   "display_name": "Python 3",
   "language": "python",
   "name": "python3"
  },
  "language_info": {
   "codemirror_mode": {
    "name": "ipython",
    "version": 3
   },
   "file_extension": ".py",
   "mimetype": "text/x-python",
   "name": "python",
   "nbconvert_exporter": "python",
   "pygments_lexer": "ipython3",
   "version": "3.7.3"
  }
 },
 "nbformat": 4,
 "nbformat_minor": 2
}
